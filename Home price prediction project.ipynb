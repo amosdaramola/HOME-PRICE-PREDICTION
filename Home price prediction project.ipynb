{
 "cells": [
  {
   "cell_type": "code",
   "execution_count": 1,
   "metadata": {},
   "outputs": [],
   "source": [
    "import pandas as pd\n",
    "import numpy as np\n",
    "import matplotlib.pyplot as plt\n",
    "import seaborn as sns\n",
    "%matplotlib inline"
   ]
  },
  {
   "cell_type": "code",
   "execution_count": 2,
   "metadata": {},
   "outputs": [
    {
     "data": {
      "text/html": [
       "<div>\n",
       "<style scoped>\n",
       "    .dataframe tbody tr th:only-of-type {\n",
       "        vertical-align: middle;\n",
       "    }\n",
       "\n",
       "    .dataframe tbody tr th {\n",
       "        vertical-align: top;\n",
       "    }\n",
       "\n",
       "    .dataframe thead th {\n",
       "        text-align: right;\n",
       "    }\n",
       "</style>\n",
       "<table border=\"1\" class=\"dataframe\">\n",
       "  <thead>\n",
       "    <tr style=\"text-align: right;\">\n",
       "      <th></th>\n",
       "      <th>Id</th>\n",
       "      <th>MSSubClass</th>\n",
       "      <th>MSZoning</th>\n",
       "      <th>LotFrontage</th>\n",
       "      <th>LotArea</th>\n",
       "      <th>Street</th>\n",
       "      <th>Alley</th>\n",
       "      <th>LotShape</th>\n",
       "      <th>LandContour</th>\n",
       "      <th>Utilities</th>\n",
       "      <th>...</th>\n",
       "      <th>PoolArea</th>\n",
       "      <th>PoolQC</th>\n",
       "      <th>Fence</th>\n",
       "      <th>MiscFeature</th>\n",
       "      <th>MiscVal</th>\n",
       "      <th>MoSold</th>\n",
       "      <th>YrSold</th>\n",
       "      <th>SaleType</th>\n",
       "      <th>SaleCondition</th>\n",
       "      <th>SalePrice</th>\n",
       "    </tr>\n",
       "  </thead>\n",
       "  <tbody>\n",
       "    <tr>\n",
       "      <th>0</th>\n",
       "      <td>1</td>\n",
       "      <td>60</td>\n",
       "      <td>RL</td>\n",
       "      <td>65.0</td>\n",
       "      <td>8450</td>\n",
       "      <td>Pave</td>\n",
       "      <td>NaN</td>\n",
       "      <td>Reg</td>\n",
       "      <td>Lvl</td>\n",
       "      <td>AllPub</td>\n",
       "      <td>...</td>\n",
       "      <td>0</td>\n",
       "      <td>NaN</td>\n",
       "      <td>NaN</td>\n",
       "      <td>NaN</td>\n",
       "      <td>0</td>\n",
       "      <td>2</td>\n",
       "      <td>2008</td>\n",
       "      <td>WD</td>\n",
       "      <td>Normal</td>\n",
       "      <td>208500</td>\n",
       "    </tr>\n",
       "    <tr>\n",
       "      <th>1</th>\n",
       "      <td>2</td>\n",
       "      <td>20</td>\n",
       "      <td>RL</td>\n",
       "      <td>80.0</td>\n",
       "      <td>9600</td>\n",
       "      <td>Pave</td>\n",
       "      <td>NaN</td>\n",
       "      <td>Reg</td>\n",
       "      <td>Lvl</td>\n",
       "      <td>AllPub</td>\n",
       "      <td>...</td>\n",
       "      <td>0</td>\n",
       "      <td>NaN</td>\n",
       "      <td>NaN</td>\n",
       "      <td>NaN</td>\n",
       "      <td>0</td>\n",
       "      <td>5</td>\n",
       "      <td>2007</td>\n",
       "      <td>WD</td>\n",
       "      <td>Normal</td>\n",
       "      <td>181500</td>\n",
       "    </tr>\n",
       "    <tr>\n",
       "      <th>2</th>\n",
       "      <td>3</td>\n",
       "      <td>60</td>\n",
       "      <td>RL</td>\n",
       "      <td>68.0</td>\n",
       "      <td>11250</td>\n",
       "      <td>Pave</td>\n",
       "      <td>NaN</td>\n",
       "      <td>IR1</td>\n",
       "      <td>Lvl</td>\n",
       "      <td>AllPub</td>\n",
       "      <td>...</td>\n",
       "      <td>0</td>\n",
       "      <td>NaN</td>\n",
       "      <td>NaN</td>\n",
       "      <td>NaN</td>\n",
       "      <td>0</td>\n",
       "      <td>9</td>\n",
       "      <td>2008</td>\n",
       "      <td>WD</td>\n",
       "      <td>Normal</td>\n",
       "      <td>223500</td>\n",
       "    </tr>\n",
       "    <tr>\n",
       "      <th>3</th>\n",
       "      <td>4</td>\n",
       "      <td>70</td>\n",
       "      <td>RL</td>\n",
       "      <td>60.0</td>\n",
       "      <td>9550</td>\n",
       "      <td>Pave</td>\n",
       "      <td>NaN</td>\n",
       "      <td>IR1</td>\n",
       "      <td>Lvl</td>\n",
       "      <td>AllPub</td>\n",
       "      <td>...</td>\n",
       "      <td>0</td>\n",
       "      <td>NaN</td>\n",
       "      <td>NaN</td>\n",
       "      <td>NaN</td>\n",
       "      <td>0</td>\n",
       "      <td>2</td>\n",
       "      <td>2006</td>\n",
       "      <td>WD</td>\n",
       "      <td>Abnorml</td>\n",
       "      <td>140000</td>\n",
       "    </tr>\n",
       "    <tr>\n",
       "      <th>4</th>\n",
       "      <td>5</td>\n",
       "      <td>60</td>\n",
       "      <td>RL</td>\n",
       "      <td>84.0</td>\n",
       "      <td>14260</td>\n",
       "      <td>Pave</td>\n",
       "      <td>NaN</td>\n",
       "      <td>IR1</td>\n",
       "      <td>Lvl</td>\n",
       "      <td>AllPub</td>\n",
       "      <td>...</td>\n",
       "      <td>0</td>\n",
       "      <td>NaN</td>\n",
       "      <td>NaN</td>\n",
       "      <td>NaN</td>\n",
       "      <td>0</td>\n",
       "      <td>12</td>\n",
       "      <td>2008</td>\n",
       "      <td>WD</td>\n",
       "      <td>Normal</td>\n",
       "      <td>250000</td>\n",
       "    </tr>\n",
       "  </tbody>\n",
       "</table>\n",
       "<p>5 rows × 81 columns</p>\n",
       "</div>"
      ],
      "text/plain": [
       "   Id  MSSubClass MSZoning  LotFrontage  LotArea Street Alley LotShape  \\\n",
       "0   1          60       RL         65.0     8450   Pave   NaN      Reg   \n",
       "1   2          20       RL         80.0     9600   Pave   NaN      Reg   \n",
       "2   3          60       RL         68.0    11250   Pave   NaN      IR1   \n",
       "3   4          70       RL         60.0     9550   Pave   NaN      IR1   \n",
       "4   5          60       RL         84.0    14260   Pave   NaN      IR1   \n",
       "\n",
       "  LandContour Utilities  ... PoolArea PoolQC Fence MiscFeature MiscVal MoSold  \\\n",
       "0         Lvl    AllPub  ...        0    NaN   NaN         NaN       0      2   \n",
       "1         Lvl    AllPub  ...        0    NaN   NaN         NaN       0      5   \n",
       "2         Lvl    AllPub  ...        0    NaN   NaN         NaN       0      9   \n",
       "3         Lvl    AllPub  ...        0    NaN   NaN         NaN       0      2   \n",
       "4         Lvl    AllPub  ...        0    NaN   NaN         NaN       0     12   \n",
       "\n",
       "  YrSold  SaleType  SaleCondition  SalePrice  \n",
       "0   2008        WD         Normal     208500  \n",
       "1   2007        WD         Normal     181500  \n",
       "2   2008        WD         Normal     223500  \n",
       "3   2006        WD        Abnorml     140000  \n",
       "4   2008        WD         Normal     250000  \n",
       "\n",
       "[5 rows x 81 columns]"
      ]
     },
     "execution_count": 2,
     "metadata": {},
     "output_type": "execute_result"
    }
   ],
   "source": [
    "home = pd.read_csv('train_home.csv')\n",
    "home.head()"
   ]
  },
  {
   "cell_type": "code",
   "execution_count": 3,
   "metadata": {},
   "outputs": [
    {
     "name": "stdout",
     "output_type": "stream",
     "text": [
      "<class 'pandas.core.frame.DataFrame'>\n",
      "RangeIndex: 1460 entries, 0 to 1459\n",
      "Data columns (total 81 columns):\n",
      " #   Column         Non-Null Count  Dtype  \n",
      "---  ------         --------------  -----  \n",
      " 0   Id             1460 non-null   int64  \n",
      " 1   MSSubClass     1460 non-null   int64  \n",
      " 2   MSZoning       1460 non-null   object \n",
      " 3   LotFrontage    1201 non-null   float64\n",
      " 4   LotArea        1460 non-null   int64  \n",
      " 5   Street         1460 non-null   object \n",
      " 6   Alley          91 non-null     object \n",
      " 7   LotShape       1460 non-null   object \n",
      " 8   LandContour    1460 non-null   object \n",
      " 9   Utilities      1460 non-null   object \n",
      " 10  LotConfig      1460 non-null   object \n",
      " 11  LandSlope      1460 non-null   object \n",
      " 12  Neighborhood   1460 non-null   object \n",
      " 13  Condition1     1460 non-null   object \n",
      " 14  Condition2     1460 non-null   object \n",
      " 15  BldgType       1460 non-null   object \n",
      " 16  HouseStyle     1460 non-null   object \n",
      " 17  OverallQual    1460 non-null   int64  \n",
      " 18  OverallCond    1460 non-null   int64  \n",
      " 19  YearBuilt      1460 non-null   int64  \n",
      " 20  YearRemodAdd   1460 non-null   int64  \n",
      " 21  RoofStyle      1460 non-null   object \n",
      " 22  RoofMatl       1460 non-null   object \n",
      " 23  Exterior1st    1460 non-null   object \n",
      " 24  Exterior2nd    1460 non-null   object \n",
      " 25  MasVnrType     1452 non-null   object \n",
      " 26  MasVnrArea     1452 non-null   float64\n",
      " 27  ExterQual      1460 non-null   object \n",
      " 28  ExterCond      1460 non-null   object \n",
      " 29  Foundation     1460 non-null   object \n",
      " 30  BsmtQual       1423 non-null   object \n",
      " 31  BsmtCond       1423 non-null   object \n",
      " 32  BsmtExposure   1422 non-null   object \n",
      " 33  BsmtFinType1   1423 non-null   object \n",
      " 34  BsmtFinSF1     1460 non-null   int64  \n",
      " 35  BsmtFinType2   1422 non-null   object \n",
      " 36  BsmtFinSF2     1460 non-null   int64  \n",
      " 37  BsmtUnfSF      1460 non-null   int64  \n",
      " 38  TotalBsmtSF    1460 non-null   int64  \n",
      " 39  Heating        1460 non-null   object \n",
      " 40  HeatingQC      1460 non-null   object \n",
      " 41  CentralAir     1460 non-null   object \n",
      " 42  Electrical     1459 non-null   object \n",
      " 43  1stFlrSF       1460 non-null   int64  \n",
      " 44  2ndFlrSF       1460 non-null   int64  \n",
      " 45  LowQualFinSF   1460 non-null   int64  \n",
      " 46  GrLivArea      1460 non-null   int64  \n",
      " 47  BsmtFullBath   1460 non-null   int64  \n",
      " 48  BsmtHalfBath   1460 non-null   int64  \n",
      " 49  FullBath       1460 non-null   int64  \n",
      " 50  HalfBath       1460 non-null   int64  \n",
      " 51  BedroomAbvGr   1460 non-null   int64  \n",
      " 52  KitchenAbvGr   1460 non-null   int64  \n",
      " 53  KitchenQual    1460 non-null   object \n",
      " 54  TotRmsAbvGrd   1460 non-null   int64  \n",
      " 55  Functional     1460 non-null   object \n",
      " 56  Fireplaces     1460 non-null   int64  \n",
      " 57  FireplaceQu    770 non-null    object \n",
      " 58  GarageType     1379 non-null   object \n",
      " 59  GarageYrBlt    1379 non-null   float64\n",
      " 60  GarageFinish   1379 non-null   object \n",
      " 61  GarageCars     1460 non-null   int64  \n",
      " 62  GarageArea     1460 non-null   int64  \n",
      " 63  GarageQual     1379 non-null   object \n",
      " 64  GarageCond     1379 non-null   object \n",
      " 65  PavedDrive     1460 non-null   object \n",
      " 66  WoodDeckSF     1460 non-null   int64  \n",
      " 67  OpenPorchSF    1460 non-null   int64  \n",
      " 68  EnclosedPorch  1460 non-null   int64  \n",
      " 69  3SsnPorch      1460 non-null   int64  \n",
      " 70  ScreenPorch    1460 non-null   int64  \n",
      " 71  PoolArea       1460 non-null   int64  \n",
      " 72  PoolQC         7 non-null      object \n",
      " 73  Fence          281 non-null    object \n",
      " 74  MiscFeature    54 non-null     object \n",
      " 75  MiscVal        1460 non-null   int64  \n",
      " 76  MoSold         1460 non-null   int64  \n",
      " 77  YrSold         1460 non-null   int64  \n",
      " 78  SaleType       1460 non-null   object \n",
      " 79  SaleCondition  1460 non-null   object \n",
      " 80  SalePrice      1460 non-null   int64  \n",
      "dtypes: float64(3), int64(35), object(43)\n",
      "memory usage: 924.0+ KB\n",
      "None\n"
     ]
    }
   ],
   "source": [
    "print(home.info())"
   ]
  },
  {
   "cell_type": "markdown",
   "metadata": {},
   "source": [
    "- The dataset has 81 columns and 1460 rows. Some of the columns has null values"
   ]
  },
  {
   "cell_type": "markdown",
   "metadata": {},
   "source": [
    "- Number of missing values in each columns"
   ]
  },
  {
   "cell_type": "code",
   "execution_count": 4,
   "metadata": {},
   "outputs": [
    {
     "name": "stdout",
     "output_type": "stream",
     "text": [
      "LotFrontage      259\n",
      "Alley           1369\n",
      "MasVnrType         8\n",
      "MasVnrArea         8\n",
      "BsmtQual          37\n",
      "BsmtCond          37\n",
      "BsmtExposure      38\n",
      "BsmtFinType1      37\n",
      "BsmtFinType2      38\n",
      "Electrical         1\n",
      "FireplaceQu      690\n",
      "GarageType        81\n",
      "GarageYrBlt       81\n",
      "GarageFinish      81\n",
      "GarageQual        81\n",
      "GarageCond        81\n",
      "PoolQC          1453\n",
      "Fence           1179\n",
      "MiscFeature     1406\n",
      "dtype: int64\n"
     ]
    }
   ],
   "source": [
    "missing_col_count = home.isnull().sum()\n",
    "print(missing_col_count[missing_col_count > 0])"
   ]
  },
  {
   "cell_type": "markdown",
   "metadata": {},
   "source": [
    "- Some of the columns has a large number of null values,it is better to drop these columns as filling them will affect our analysis\n",
    "\n",
    "- Some have a reasonable numbers of null values which can be filled for our analysis"
   ]
  },
  {
   "cell_type": "code",
   "execution_count": 5,
   "metadata": {},
   "outputs": [],
   "source": [
    "columns_to_drop = ['Alley','FireplaceQu','PoolQC','MiscFeature','Fence']\n",
    "home = home.dropna(axis=1)"
   ]
  },
  {
   "cell_type": "code",
   "execution_count": 6,
   "metadata": {},
   "outputs": [
    {
     "name": "stdout",
     "output_type": "stream",
     "text": [
      "                Id   MSSubClass        LotArea  OverallQual  OverallCond  \\\n",
      "count  1460.000000  1460.000000    1460.000000  1460.000000  1460.000000   \n",
      "mean    730.500000    56.897260   10516.828082     6.099315     5.575342   \n",
      "std     421.610009    42.300571    9981.264932     1.382997     1.112799   \n",
      "min       1.000000    20.000000    1300.000000     1.000000     1.000000   \n",
      "25%     365.750000    20.000000    7553.500000     5.000000     5.000000   \n",
      "50%     730.500000    50.000000    9478.500000     6.000000     5.000000   \n",
      "75%    1095.250000    70.000000   11601.500000     7.000000     6.000000   \n",
      "max    1460.000000   190.000000  215245.000000    10.000000     9.000000   \n",
      "\n",
      "         YearBuilt  YearRemodAdd   BsmtFinSF1   BsmtFinSF2    BsmtUnfSF  ...  \\\n",
      "count  1460.000000   1460.000000  1460.000000  1460.000000  1460.000000  ...   \n",
      "mean   1971.267808   1984.865753   443.639726    46.549315   567.240411  ...   \n",
      "std      30.202904     20.645407   456.098091   161.319273   441.866955  ...   \n",
      "min    1872.000000   1950.000000     0.000000     0.000000     0.000000  ...   \n",
      "25%    1954.000000   1967.000000     0.000000     0.000000   223.000000  ...   \n",
      "50%    1973.000000   1994.000000   383.500000     0.000000   477.500000  ...   \n",
      "75%    2000.000000   2004.000000   712.250000     0.000000   808.000000  ...   \n",
      "max    2010.000000   2010.000000  5644.000000  1474.000000  2336.000000  ...   \n",
      "\n",
      "        WoodDeckSF  OpenPorchSF  EnclosedPorch    3SsnPorch  ScreenPorch  \\\n",
      "count  1460.000000  1460.000000    1460.000000  1460.000000  1460.000000   \n",
      "mean     94.244521    46.660274      21.954110     3.409589    15.060959   \n",
      "std     125.338794    66.256028      61.119149    29.317331    55.757415   \n",
      "min       0.000000     0.000000       0.000000     0.000000     0.000000   \n",
      "25%       0.000000     0.000000       0.000000     0.000000     0.000000   \n",
      "50%       0.000000    25.000000       0.000000     0.000000     0.000000   \n",
      "75%     168.000000    68.000000       0.000000     0.000000     0.000000   \n",
      "max     857.000000   547.000000     552.000000   508.000000   480.000000   \n",
      "\n",
      "          PoolArea       MiscVal       MoSold       YrSold      SalePrice  \n",
      "count  1460.000000   1460.000000  1460.000000  1460.000000    1460.000000  \n",
      "mean      2.758904     43.489041     6.321918  2007.815753  180921.195890  \n",
      "std      40.177307    496.123024     2.703626     1.328095   79442.502883  \n",
      "min       0.000000      0.000000     1.000000  2006.000000   34900.000000  \n",
      "25%       0.000000      0.000000     5.000000  2007.000000  129975.000000  \n",
      "50%       0.000000      0.000000     6.000000  2008.000000  163000.000000  \n",
      "75%       0.000000      0.000000     8.000000  2009.000000  214000.000000  \n",
      "max     738.000000  15500.000000    12.000000  2010.000000  755000.000000  \n",
      "\n",
      "[8 rows x 35 columns]\n"
     ]
    }
   ],
   "source": [
    "print(home.describe())"
   ]
  },
  {
   "cell_type": "markdown",
   "metadata": {},
   "source": [
    "- Looking at the \"Sale Price\" column which is the target column, the highest price is 755000 and the lowest is 34900.\n",
    "\n",
    "The average price is 180921.195890"
   ]
  },
  {
   "cell_type": "code",
   "execution_count": 7,
   "metadata": {},
   "outputs": [
    {
     "name": "stdout",
     "output_type": "stream",
     "text": [
      "Index(['Id', 'MSSubClass', 'MSZoning', 'LotArea', 'Street', 'LotShape',\n",
      "       'LandContour', 'Utilities', 'LotConfig', 'LandSlope', 'Neighborhood',\n",
      "       'Condition1', 'Condition2', 'BldgType', 'HouseStyle', 'OverallQual',\n",
      "       'OverallCond', 'YearBuilt', 'YearRemodAdd', 'RoofStyle', 'RoofMatl',\n",
      "       'Exterior1st', 'Exterior2nd', 'ExterQual', 'ExterCond', 'Foundation',\n",
      "       'BsmtFinSF1', 'BsmtFinSF2', 'BsmtUnfSF', 'TotalBsmtSF', 'Heating',\n",
      "       'HeatingQC', 'CentralAir', '1stFlrSF', '2ndFlrSF', 'LowQualFinSF',\n",
      "       'GrLivArea', 'BsmtFullBath', 'BsmtHalfBath', 'FullBath', 'HalfBath',\n",
      "       'BedroomAbvGr', 'KitchenAbvGr', 'KitchenQual', 'TotRmsAbvGrd',\n",
      "       'Functional', 'Fireplaces', 'GarageCars', 'GarageArea', 'PavedDrive',\n",
      "       'WoodDeckSF', 'OpenPorchSF', 'EnclosedPorch', '3SsnPorch',\n",
      "       'ScreenPorch', 'PoolArea', 'MiscVal', 'MoSold', 'YrSold', 'SaleType',\n",
      "       'SaleCondition', 'SalePrice'],\n",
      "      dtype='object')\n"
     ]
    }
   ],
   "source": [
    "print(home.columns)"
   ]
  },
  {
   "cell_type": "markdown",
   "metadata": {},
   "source": [
    "- Separating the categorical columns from the numerical columns"
   ]
  },
  {
   "cell_type": "code",
   "execution_count": 8,
   "metadata": {},
   "outputs": [
    {
     "name": "stdout",
     "output_type": "stream",
     "text": [
      "  MSZoning Street LotShape LandContour Utilities LotConfig LandSlope  \\\n",
      "0       RL   Pave      Reg         Lvl    AllPub    Inside       Gtl   \n",
      "1       RL   Pave      Reg         Lvl    AllPub       FR2       Gtl   \n",
      "2       RL   Pave      IR1         Lvl    AllPub    Inside       Gtl   \n",
      "3       RL   Pave      IR1         Lvl    AllPub    Corner       Gtl   \n",
      "4       RL   Pave      IR1         Lvl    AllPub       FR2       Gtl   \n",
      "\n",
      "  Neighborhood Condition1 Condition2  ... ExterCond Foundation Heating  \\\n",
      "0      CollgCr       Norm       Norm  ...        TA      PConc    GasA   \n",
      "1      Veenker      Feedr       Norm  ...        TA     CBlock    GasA   \n",
      "2      CollgCr       Norm       Norm  ...        TA      PConc    GasA   \n",
      "3      Crawfor       Norm       Norm  ...        TA     BrkTil    GasA   \n",
      "4      NoRidge       Norm       Norm  ...        TA      PConc    GasA   \n",
      "\n",
      "  HeatingQC CentralAir KitchenQual Functional PavedDrive SaleType  \\\n",
      "0        Ex          Y          Gd        Typ          Y       WD   \n",
      "1        Ex          Y          TA        Typ          Y       WD   \n",
      "2        Ex          Y          Gd        Typ          Y       WD   \n",
      "3        Gd          Y          Gd        Typ          Y       WD   \n",
      "4        Ex          Y          Gd        Typ          Y       WD   \n",
      "\n",
      "  SaleCondition  \n",
      "0        Normal  \n",
      "1        Normal  \n",
      "2        Normal  \n",
      "3       Abnorml  \n",
      "4        Normal  \n",
      "\n",
      "[5 rows x 27 columns]\n"
     ]
    }
   ],
   "source": [
    "cat_var = home.loc[:,home.dtypes == np.object]\n",
    "print(cat_var.head())"
   ]
  },
  {
   "cell_type": "code",
   "execution_count": 9,
   "metadata": {},
   "outputs": [
    {
     "name": "stdout",
     "output_type": "stream",
     "text": [
      "      MSSubClass  LotArea  OverallQual  OverallCond  YearBuilt  YearRemodAdd  \\\n",
      "0             60     8450            7            5       2003          2003   \n",
      "1             20     9600            6            8       1976          1976   \n",
      "2             60    11250            7            5       2001          2002   \n",
      "3             70     9550            7            5       1915          1970   \n",
      "4             60    14260            8            5       2000          2000   \n",
      "...          ...      ...          ...          ...        ...           ...   \n",
      "1455          60     7917            6            5       1999          2000   \n",
      "1456          20    13175            6            6       1978          1988   \n",
      "1457          70     9042            7            9       1941          2006   \n",
      "1458          20     9717            5            6       1950          1996   \n",
      "1459          20     9937            5            6       1965          1965   \n",
      "\n",
      "      BsmtFinSF1  BsmtFinSF2  BsmtUnfSF  TotalBsmtSF  ...  GarageArea  \\\n",
      "0            706           0        150          856  ...         548   \n",
      "1            978           0        284         1262  ...         460   \n",
      "2            486           0        434          920  ...         608   \n",
      "3            216           0        540          756  ...         642   \n",
      "4            655           0        490         1145  ...         836   \n",
      "...          ...         ...        ...          ...  ...         ...   \n",
      "1455           0           0        953          953  ...         460   \n",
      "1456         790         163        589         1542  ...         500   \n",
      "1457         275           0        877         1152  ...         252   \n",
      "1458          49        1029          0         1078  ...         240   \n",
      "1459         830         290        136         1256  ...         276   \n",
      "\n",
      "      WoodDeckSF  OpenPorchSF  EnclosedPorch  3SsnPorch  ScreenPorch  \\\n",
      "0              0           61              0          0            0   \n",
      "1            298            0              0          0            0   \n",
      "2              0           42              0          0            0   \n",
      "3              0           35            272          0            0   \n",
      "4            192           84              0          0            0   \n",
      "...          ...          ...            ...        ...          ...   \n",
      "1455           0           40              0          0            0   \n",
      "1456         349            0              0          0            0   \n",
      "1457           0           60              0          0            0   \n",
      "1458         366            0            112          0            0   \n",
      "1459         736           68              0          0            0   \n",
      "\n",
      "      PoolArea  MiscVal  MoSold  YrSold  \n",
      "0            0        0       2    2008  \n",
      "1            0        0       5    2007  \n",
      "2            0        0       9    2008  \n",
      "3            0        0       2    2006  \n",
      "4            0        0      12    2008  \n",
      "...        ...      ...     ...     ...  \n",
      "1455         0        0       8    2007  \n",
      "1456         0        0       2    2010  \n",
      "1457         0     2500       5    2010  \n",
      "1458         0        0       4    2010  \n",
      "1459         0        0       6    2008  \n",
      "\n",
      "[1460 rows x 33 columns]\n"
     ]
    },
    {
     "name": "stderr",
     "output_type": "stream",
     "text": [
      "C:\\Users\\user\\anaconda3\\lib\\site-packages\\pandas\\core\\frame.py:3997: SettingWithCopyWarning: \n",
      "A value is trying to be set on a copy of a slice from a DataFrame\n",
      "\n",
      "See the caveats in the documentation: https://pandas.pydata.org/pandas-docs/stable/user_guide/indexing.html#returning-a-view-versus-a-copy\n",
      "  errors=errors,\n"
     ]
    }
   ],
   "source": [
    "num_var = home.loc[:,home.dtypes != np.object]\n",
    "num_var.drop(['Id','SalePrice'],axis=1,inplace=True)\n",
    "print(num_var)"
   ]
  },
  {
   "cell_type": "markdown",
   "metadata": {},
   "source": [
    "- Visualizing some of the numerical columns."
   ]
  },
  {
   "cell_type": "code",
   "execution_count": 10,
   "metadata": {},
   "outputs": [
    {
     "name": "stderr",
     "output_type": "stream",
     "text": [
      "C:\\Users\\user\\anaconda3\\lib\\site-packages\\ipykernel_launcher.py:4: UserWarning: To output multiple subplots, the figure containing the passed axes is being cleared\n",
      "  after removing the cwd from sys.path.\n"
     ]
    },
    {
     "data": {
      "image/png": "[encoded data removed]",
      "text/plain": [
       "<Figure size 2520x2520 with 36 Axes>"
      ]
     },
     "metadata": {
      "needs_background": "light"
     },
     "output_type": "display_data"
    }
   ],
   "source": [
    "fig = plt.figure(figsize=(35,35))\n",
    "ax1 = fig.gca()\n",
    "cols_1 = num_var\n",
    "cols_1.hist(ax=ax1)\n",
    "plt.show()"
   ]
  },
  {
   "cell_type": "markdown",
   "metadata": {},
   "source": [
    "###### ENCODING THE CATEGORICAL VARIABLE"
   ]
  },
  {
   "cell_type": "markdown",
   "metadata": {},
   "source": [
    "- Using Label encoder for the categorical variable"
   ]
  },
  {
   "cell_type": "code",
   "execution_count": 11,
   "metadata": {},
   "outputs": [
    {
     "name": "stdout",
     "output_type": "stream",
     "text": [
      "   MSZoning  Street  LotShape  LandContour  Utilities  LotConfig  LandSlope  \\\n",
      "0         3       1         3            3          0          4          0   \n",
      "1         3       1         3            3          0          2          0   \n",
      "2         3       1         0            3          0          4          0   \n",
      "3         3       1         0            3          0          0          0   \n",
      "4         3       1         0            3          0          2          0   \n",
      "\n",
      "   Neighborhood  Condition1  Condition2  ...  ExterCond  Foundation  Heating  \\\n",
      "0             5           2           2  ...          4           2        1   \n",
      "1            24           1           2  ...          4           1        1   \n",
      "2             5           2           2  ...          4           2        1   \n",
      "3             6           2           2  ...          4           0        1   \n",
      "4            15           2           2  ...          4           2        1   \n",
      "\n",
      "   HeatingQC  CentralAir  KitchenQual  Functional  PavedDrive  SaleType  \\\n",
      "0          0           1            2           6           2         8   \n",
      "1          0           1            3           6           2         8   \n",
      "2          0           1            2           6           2         8   \n",
      "3          2           1            2           6           2         8   \n",
      "4          0           1            2           6           2         8   \n",
      "\n",
      "   SaleCondition  \n",
      "0              4  \n",
      "1              4  \n",
      "2              4  \n",
      "3              0  \n",
      "4              4  \n",
      "\n",
      "[5 rows x 27 columns]\n"
     ]
    }
   ],
   "source": [
    "cat_var = cat_var.astype(str)\n",
    "from sklearn.preprocessing import LabelEncoder\n",
    "label_encoder = LabelEncoder()\n",
    "encoded = cat_var.apply(label_encoder.fit_transform)\n",
    "print(encoded.head())"
   ]
  },
  {
   "cell_type": "markdown",
   "metadata": {},
   "source": [
    "- Joining the encoded categorical variable with numerical variable"
   ]
  },
  {
   "cell_type": "code",
   "execution_count": 12,
   "metadata": {},
   "outputs": [
    {
     "name": "stdout",
     "output_type": "stream",
     "text": [
      "   MSSubClass  LotArea  OverallQual  OverallCond  YearBuilt  YearRemodAdd  \\\n",
      "0          60     8450            7            5       2003          2003   \n",
      "1          20     9600            6            8       1976          1976   \n",
      "2          60    11250            7            5       2001          2002   \n",
      "3          70     9550            7            5       1915          1970   \n",
      "4          60    14260            8            5       2000          2000   \n",
      "\n",
      "   BsmtFinSF1  BsmtFinSF2  BsmtUnfSF  TotalBsmtSF  ...  ExterCond  Foundation  \\\n",
      "0         706           0        150          856  ...          4           2   \n",
      "1         978           0        284         1262  ...          4           1   \n",
      "2         486           0        434          920  ...          4           2   \n",
      "3         216           0        540          756  ...          4           0   \n",
      "4         655           0        490         1145  ...          4           2   \n",
      "\n",
      "   Heating  HeatingQC  CentralAir  KitchenQual  Functional  PavedDrive  \\\n",
      "0        1          0           1            2           6           2   \n",
      "1        1          0           1            3           6           2   \n",
      "2        1          0           1            2           6           2   \n",
      "3        1          2           1            2           6           2   \n",
      "4        1          0           1            2           6           2   \n",
      "\n",
      "   SaleType  SaleCondition  \n",
      "0         8              4  \n",
      "1         8              4  \n",
      "2         8              4  \n",
      "3         8              0  \n",
      "4         8              4  \n",
      "\n",
      "[5 rows x 60 columns]\n"
     ]
    }
   ],
   "source": [
    "home_data = num_var.join(encoded)\n",
    "print(home_data.head())\n",
    "home_data_cols = home_data.columns"
   ]
  },
  {
   "cell_type": "code",
   "execution_count": 13,
   "metadata": {},
   "outputs": [
    {
     "name": "stdout",
     "output_type": "stream",
     "text": [
      "0    208500\n",
      "1    181500\n",
      "2    223500\n",
      "3    140000\n",
      "4    250000\n",
      "Name: SalePrice, dtype: int64\n"
     ]
    }
   ],
   "source": [
    "x = home_data\n",
    "Y = home['SalePrice']\n",
    "X = x.copy()\n",
    "y = Y.copy()\n",
    "print(y.head())"
   ]
  },
  {
   "cell_type": "code",
   "execution_count": 14,
   "metadata": {},
   "outputs": [
    {
     "name": "stdout",
     "output_type": "stream",
     "text": [
      "None\n"
     ]
    }
   ],
   "source": [
    "print(X.replace([np.inf,-np.inf],np.nan,inplace=True))"
   ]
  },
  {
   "cell_type": "markdown",
   "metadata": {},
   "source": [
    "###### Splitting the dataset into training and testing data"
   ]
  },
  {
   "cell_type": "code",
   "execution_count": 15,
   "metadata": {},
   "outputs": [],
   "source": [
    "from sklearn.model_selection import train_test_split\n",
    "X_train,X_test,y_train,y_test = train_test_split(X,y,test_size=0.3)\n"
   ]
  },
  {
   "cell_type": "markdown",
   "metadata": {},
   "source": [
    "- Using Univariate Feature Selection\n",
    "- Selecting the best 40 columns"
   ]
  },
  {
   "cell_type": "code",
   "execution_count": 16,
   "metadata": {},
   "outputs": [
    {
     "name": "stdout",
     "output_type": "stream",
     "text": [
      "[[ 6000     5     8  1925  1997     0   884   884   884   464  1348     1\n",
      "      0     3     5     1     1   216     0     0     0     0     0     0\n",
      "   2009     4     3     3     3     0     1     1    13     3     0     1\n",
      "      0     1     3     4]\n",
      " [14536     8     5  2002  2003  1300   316  1616  1629     0  1629     2\n",
      "      0     3     9     1     3   808     0   252     0     0     0     0\n",
      "   2007     3     3     3    23     2     3     1    12     2     2     1\n",
      "      0     1     2     4]\n",
      " [14684     7     7  1990  1991   485  1496  2158  2196     0  2196     2\n",
      "      0     3     7     1     3   701    84    70     0     0     0     0\n",
      "   2009     3     0     3    20     2     3     1     6     2     1     1\n",
      "      2     1     2     4]\n",
      " [ 9560     5     7  1972  1972   360   504   864   864     0   864     1\n",
      "      0     3     5     0     1   288     0     0     0     0     0     0\n",
      "   2006     3     0     3     5     2     3     1     8     3     1     1\n",
      "      0     1     3     4]\n",
      " [ 6240     4     5  1925  1950   152   628   780   848     0  1208     1\n",
      "      0     2     5     0     2   539     0    23     0     0     0     0\n",
      "   2009     4     3     3     9     0     1     1     8     3     1     1\n",
      "      4     1     3     4]]\n"
     ]
    },
    {
     "name": "stderr",
     "output_type": "stream",
     "text": [
      "C:\\Users\\user\\anaconda3\\lib\\site-packages\\sklearn\\feature_selection\\_univariate_selection.py:114: UserWarning: Features [37] are constant.\n",
      "  UserWarning)\n",
      "C:\\Users\\user\\anaconda3\\lib\\site-packages\\sklearn\\feature_selection\\_univariate_selection.py:115: RuntimeWarning: invalid value encountered in true_divide\n",
      "  f = msb / msw\n"
     ]
    }
   ],
   "source": [
    "from sklearn.feature_selection import SelectKBest,f_classif\n",
    "selector = SelectKBest(f_classif,k=40)\n",
    "X_train_new = selector.fit_transform(X_train,y_train)\n",
    "X_test_new = selector.fit_transform(X_test,y_test)\n",
    "print(X_train_new[0:5])"
   ]
  },
  {
   "cell_type": "markdown",
   "metadata": {},
   "source": [
    "- Getting back the selected features and make other features to be zero"
   ]
  },
  {
   "cell_type": "code",
   "execution_count": 17,
   "metadata": {},
   "outputs": [
    {
     "name": "stdout",
     "output_type": "stream",
     "text": [
      "      MSSubClass  LotArea  OverallQual  OverallCond  YearBuilt  YearRemodAdd  \\\n",
      "1202           0     6000            5            0          8          1925   \n",
      "947            0    14536            8            0          5          2002   \n",
      "1205           0    14684            7            0          7          1990   \n",
      "1339           0     9560            5            0          7          1972   \n",
      "729            0     6240            4            0          5          1925   \n",
      "\n",
      "      BsmtFinSF1  BsmtFinSF2  BsmtUnfSF  TotalBsmtSF  ...  ExterCond  \\\n",
      "1202        1997           0          0            0  ...          3   \n",
      "947         2003           0          0         1300  ...          2   \n",
      "1205        1991           0          0          485  ...          2   \n",
      "1339        1972           0          0          360  ...          3   \n",
      "729         1950           0          0          152  ...          3   \n",
      "\n",
      "      Foundation  Heating  HeatingQC  CentralAir  KitchenQual  Functional  \\\n",
      "1202           0        1          0           1            3           0   \n",
      "947            2        1          0           1            2           0   \n",
      "1205           1        1          2           1            2           0   \n",
      "1339           1        1          0           1            3           0   \n",
      "729            1        1          4           1            3           0   \n",
      "\n",
      "      PavedDrive  SaleType  SaleCondition  \n",
      "1202           0         4              0  \n",
      "947            0         4              0  \n",
      "1205           0         4              0  \n",
      "1339           0         4              0  \n",
      "729            0         4              0  \n",
      "\n",
      "[5 rows x 60 columns]\n"
     ]
    }
   ],
   "source": [
    "selected_X_train = pd.DataFrame(selector.inverse_transform(X_train_new),index =X_train.index,columns=home_data_cols)\n",
    "selected_X_test = pd.DataFrame(selector.inverse_transform(X_test_new),index = X_test.index,columns=home_data_cols)\n",
    "print(selected_X_train.head())"
   ]
  },
  {
   "cell_type": "markdown",
   "metadata": {},
   "source": [
    "- Drop the the columns with values zero"
   ]
  },
  {
   "cell_type": "code",
   "execution_count": 18,
   "metadata": {},
   "outputs": [
    {
     "name": "stdout",
     "output_type": "stream",
     "text": [
      "      LotArea  OverallQual  YearBuilt  YearRemodAdd  BsmtFinSF1  TotalBsmtSF  \\\n",
      "1202     6000            5       1925          1997           0          884   \n",
      "947     14536            8       2002          2003        1300         1616   \n",
      "1205    14684            7       1990          1991         485         2158   \n",
      "1339     9560            5       1972          1972         360          864   \n",
      "729      6240            4       1925          1950         152          780   \n",
      "\n",
      "      1stFlrSF  2ndFlrSF  GrLivArea  BsmtFullBath  ...  RoofMatl  Exterior2nd  \\\n",
      "1202       884       464       1348             1  ...         1           14   \n",
      "947       1629         0       1629             1  ...         1           13   \n",
      "1205      2196         0       2196             0  ...         1            6   \n",
      "1339       864         0        864             0  ...         1            8   \n",
      "729        848         0       1208             0  ...         1            8   \n",
      "\n",
      "      ExterQual  ExterCond  Foundation  Heating  HeatingQC  CentralAir  \\\n",
      "1202          3          4           0        1          0           1   \n",
      "947           2          4           2        1          0           1   \n",
      "1205          2          4           1        1          2           1   \n",
      "1339          3          2           1        1          0           1   \n",
      "729           3          4           1        1          4           1   \n",
      "\n",
      "      KitchenQual  SaleType  \n",
      "1202            3         8  \n",
      "947             2         8  \n",
      "1205            2         8  \n",
      "1339            3         8  \n",
      "729             3         8  \n",
      "\n",
      "[5 rows x 40 columns]\n",
      "\n",
      "      LotArea  OverallQual  YearBuilt  YearRemodAdd  BsmtFinSF1  TotalBsmtSF  \\\n",
      "986      5310            6       1910          2003           0          485   \n",
      "246      9142            6       1910          1950           0         1020   \n",
      "1027     9520            8       2007          2008        1513         1638   \n",
      "86      11911            6       2005          2005           0          684   \n",
      "745      8963            8       1976          1996         575         1142   \n",
      "\n",
      "      1stFlrSF  2ndFlrSF  GrLivArea  BsmtFullBath  ...  RoofMatl  Exterior2nd  \\\n",
      "986       1001       634       1635             0  ...         1           13   \n",
      "246        908      1020       1928             0  ...         1            0   \n",
      "1027      1646         0       1646             1  ...         1           13   \n",
      "86         684       876       1560             0  ...         1           13   \n",
      "745       1175      1540       2715             0  ...         1           13   \n",
      "\n",
      "      ExterQual  ExterCond  Foundation  Heating  HeatingQC  CentralAir  \\\n",
      "986           3          2           1        1          2           1   \n",
      "246           3          1           4        1          2           0   \n",
      "1027          2          4           2        1          0           1   \n",
      "86            2          4           2        1          0           1   \n",
      "745           0          2           1        1          0           1   \n",
      "\n",
      "      KitchenQual  SaleType  \n",
      "986             2         8  \n",
      "246             1         8  \n",
      "1027            2         6  \n",
      "86              2         8  \n",
      "745             2         8  \n",
      "\n",
      "[5 rows x 40 columns]\n"
     ]
    }
   ],
   "source": [
    "X_train_cols = selected_X_train.columns[selected_X_train.var()!=0]\n",
    "X_test_cols = selected_X_test.columns[selected_X_test.var()!=0]\n",
    "XX_train = X_train[X_train_cols]\n",
    "XX_test = X_test[X_test_cols]\n",
    "print(XX_train.dropna().head())\n",
    "print()\n",
    "print(XX_test.head())"
   ]
  },
  {
   "cell_type": "code",
   "execution_count": 19,
   "metadata": {},
   "outputs": [
    {
     "name": "stdout",
     "output_type": "stream",
     "text": [
      "[[-0.44402365 -0.81422725 -1.53872223  0.56420634 -1.00553664 -0.37469151\n",
      "  -0.72982169  0.23040799 -0.339651    1.11397103 -0.25245241 -1.02970557\n",
      "  -0.78869325  0.15941569 -0.96375548  0.63251937 -1.07476636 -1.23444326\n",
      "  -0.77020057  2.99933885 -0.08271621 -0.52400418  1.5072064   0.05425922\n",
      "   0.73893998 -0.23343247 -1.57260015 -0.02496103 -0.41167451 -0.50283984\n",
      "  -0.12797034  1.0473912   0.66464331  0.35169125 -1.91870164 -0.13240736\n",
      "  -0.87687832  0.27323663  0.79876307  0.3291636 ]\n",
      " [ 0.39441395  1.36225118  0.99906977  0.8555997   1.96507641  1.38249541\n",
      "   1.30410498 -0.8259713   0.21245802  1.11397103 -0.25245241  0.79414035\n",
      "  -0.78869325  0.15941569  1.51724729  0.63251937  1.65420561  1.57286605\n",
      "  -0.77020057 -0.35220399 -0.08271621  1.72770824 -0.02245094  0.05425922\n",
      "   0.73893998 -0.23343247  1.80492923 -0.02496103 -0.41167451  1.87084293\n",
      "  -0.12797034  0.76614217 -0.7417034   0.35169125  0.83926331 -0.13240736\n",
      "  -0.87687832  0.27323663 -0.38433237  0.3291636 ]\n",
      " [ 0.40895106  0.63675837  0.60356971  0.27281299  0.10273053  2.6835819\n",
      "   2.85207333 -0.8259713   1.32650007 -0.81892946 -0.25245241  0.79414035\n",
      "  -0.78869325  0.15941569  0.27674591  0.63251937  1.65420561  1.06546386\n",
      "  -0.08537221 -0.35220399 -0.08271621 -0.14871878 -0.02245094  0.05425922\n",
      "  -1.40042734 -0.23343247  1.29829982 -0.02496103 -0.41167451  1.87084293\n",
      "  -0.12797034 -1.20260104 -0.7417034   0.35169125 -0.53971917 -0.13240736\n",
      "   0.27575145  0.27323663 -0.38433237  0.3291636 ]\n",
      " [-0.09434724 -0.81422725  0.01031964 -0.64993263 -0.18290534 -0.42270208\n",
      "  -0.78442375 -0.8259713  -1.29061458 -0.81892946 -0.25245241 -1.02970557\n",
      "  -0.78869325  0.15941569 -0.96375548 -0.95187964 -1.07476636 -0.89301375\n",
      "  -0.77020057 -0.35220399 -0.08271621 -0.14871878 -0.02245094  0.05425922\n",
      "  -1.40042734 -0.23343247 -1.23484722 -0.02496103 -0.41167451  1.87084293\n",
      "  -0.12797034 -0.64010298  0.66464331 -2.48964045 -0.53971917 -0.13240736\n",
      "  -0.87687832  0.27323663  0.79876307  0.3291636 ]\n",
      " [-0.42044996 -1.53972007 -1.53872223 -1.71837493 -0.65820342 -0.62434648\n",
      "  -0.82810539 -0.8259713  -0.61472311 -0.81892946 -0.25245241 -1.02970557\n",
      "  -0.78869325 -1.10355203 -0.96375548 -0.95187964  0.28971963  0.29724746\n",
      "  -0.77020057  1.45247292 -0.08271621 -2.02514579  1.5072064   0.05425922\n",
      "   0.73893998 -0.23343247 -0.55934134 -0.02496103 -0.41167451 -0.50283984\n",
      "  -0.12797034 -0.64010298  0.66464331  0.35169125 -0.53971917 -0.13240736\n",
      "   1.42838121  0.27323663  0.79876307  0.3291636 ]]\n"
     ]
    }
   ],
   "source": [
    "from sklearn import preprocessing\n",
    "XX_train = preprocessing.StandardScaler().fit(XX_train).transform(XX_train)\n",
    "XX_test = preprocessing.StandardScaler().fit(XX_test).transform(XX_test)\n",
    "print(XX_train[0:5])"
   ]
  },
  {
   "cell_type": "markdown",
   "metadata": {},
   "source": [
    "### TRAINING AND PREDICTION"
   ]
  },
  {
   "cell_type": "markdown",
   "metadata": {},
   "source": [
    "###### PREDICTING USING LINEAR REGRESSION"
   ]
  },
  {
   "cell_type": "code",
   "execution_count": 20,
   "metadata": {},
   "outputs": [],
   "source": [
    "from sklearn import linear_model\n",
    "regr = linear_model.LinearRegression()\n",
    "XX_train = np.asanyarray(XX_train)\n",
    "XX_test = np.asanyarray(XX_test)\n",
    "y_train = np.asanyarray(y_train)\n",
    "y_test = np.asanyarray(y_test)\n"
   ]
  },
  {
   "cell_type": "code",
   "execution_count": 21,
   "metadata": {},
   "outputs": [
    {
     "name": "stdout",
     "output_type": "stream",
     "text": [
      "Coeficients:  [ 5669.31786752 19027.85862068  6427.25116589  2527.63970637\n",
      "  9855.49924864  6129.2658438  11310.12345844 12525.91568341\n",
      "  7570.45920807   489.14916388  -358.97131492   443.70454705\n",
      "   922.09102365 -5833.77242664  6480.32338133  3002.91635978\n",
      "  3194.18518302  4463.03548724  1749.52426227  -734.24897971\n",
      "   -49.05729479  -442.94920505  1123.43495105  2179.30741382\n",
      " -1374.93508768   410.19131601  1986.90254293 -3070.35549393\n",
      " -5262.38210824  2860.5952213    264.28232096  -274.08311292\n",
      " -7599.8407663   -718.92250771  -185.19518956  -353.92755172\n",
      " -1270.83056064   881.05235518 -8900.71738738   248.59839902]\n",
      "Intercept:  182358.80039138944\n"
     ]
    }
   ],
   "source": [
    "regr.fit(XX_train,y_train)\n",
    "print('Coeficients: ', regr.coef_)\n",
    "print('Intercept: ', regr.intercept_)"
   ]
  },
  {
   "cell_type": "code",
   "execution_count": 22,
   "metadata": {},
   "outputs": [
    {
     "name": "stdout",
     "output_type": "stream",
     "text": [
      "Mean absolute error:  20940.088530592646\n",
      "Residual sum of square:  1555851886.9655294\n",
      "R2-score:  0.7161938607356149\n"
     ]
    }
   ],
   "source": [
    "from sklearn.metrics import r2_score\n",
    "pred = regr.predict(XX_test)\n",
    "print('Mean absolute error: ',np.mean(np.absolute(pred - y_test)))\n",
    "print('Residual sum of square: ',np.mean((pred - y_test)**2))\n",
    "print('R2-score: ',r2_score(pred,y_test))"
   ]
  },
  {
   "cell_type": "markdown",
   "metadata": {},
   "source": [
    "###### USING RANDOM FOREST REGRESSOR MODEL"
   ]
  },
  {
   "cell_type": "code",
   "execution_count": 23,
   "metadata": {},
   "outputs": [],
   "source": [
    "from sklearn.ensemble import RandomForestRegressor\n",
    "forest_model = RandomForestRegressor(random_state = 1)\n",
    "forest_model.fit(XX_train,y_train)\n",
    "prediction = forest_model.predict(XX_test)\n",
    "\n"
   ]
  },
  {
   "cell_type": "code",
   "execution_count": 24,
   "metadata": {},
   "outputs": [
    {
     "name": "stdout",
     "output_type": "stream",
     "text": [
      "Mean absolute error:  17656.15694063927\n",
      "\n",
      "Mean squared error:  838664842.3310384\n",
      "\n",
      "Root mean squared error:  28959.710674159684\n"
     ]
    }
   ],
   "source": [
    "from sklearn import metrics\n",
    "print('Mean absolute error: ',metrics.mean_absolute_error(y_test,prediction))\n",
    "print()\n",
    "print('Mean squared error: ',metrics.mean_squared_error(y_test,prediction))\n",
    "print()\n",
    "print(\"Root mean squared error: \",np.sqrt(metrics.mean_squared_error(y_test,prediction)))"
   ]
  },
  {
   "cell_type": "code",
   "execution_count": 25,
   "metadata": {},
   "outputs": [
    {
     "name": "stdout",
     "output_type": "stream",
     "text": [
      "R-2 score:  0.8329968996699121\n"
     ]
    }
   ],
   "source": [
    "print('R-2 score: ',r2_score(prediction,y_test))"
   ]
  },
  {
   "cell_type": "markdown",
   "metadata": {},
   "source": [
    "##### CONCLUSION"
   ]
  },
  {
   "cell_type": "markdown",
   "metadata": {},
   "source": [
    "- Two different Algorithms were used in which the Random forest regression perform better with a r2 score of 83.3% while the linear regression model has a r2 score of 71.6%.\n",
    "\n",
    "- The random forest regression can be used to predict the price of a new house with and accuracy of 83.3%."
   ]
  },
  {
   "cell_type": "code",
   "execution_count": null,
   "metadata": {},
   "outputs": [],
   "source": []
  }
 ],
 "metadata": {
  "kernelspec": {
   "display_name": "Python 3",
   "language": "python",
   "name": "python3"
  },
  "language_info": {
   "codemirror_mode": {
    "name": "ipython",
    "version": 3
   },
   "file_extension": ".py",
   "mimetype": "text/x-python",
   "name": "python",
   "nbconvert_exporter": "python",
   "pygments_lexer": "ipython3",
   "version": "3.7.6"
  }
 },
 "nbformat": 4,
 "nbformat_minor": 4
}
